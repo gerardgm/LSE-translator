{
  "nbformat": 4,
  "nbformat_minor": 0,
  "metadata": {
    "accelerator": "GPU",
    "colab": {
      "name": "GRU_with_Attention(encoder-decoder).ipynb",
      "provenance": [],
      "collapsed_sections": []
    },
    "kernelspec": {
      "display_name": "Python 3",
      "name": "python3"
    },
    "widgets": {
      "application/vnd.jupyter.widget-state+json": {
        "80aa7ff2e6f04943940cc908c04c3914": {
          "model_module": "@jupyter-widgets/controls",
          "model_name": "HBoxModel",
          "state": {
            "_view_name": "HBoxView",
            "_dom_classes": [],
            "_model_name": "HBoxModel",
            "_view_module": "@jupyter-widgets/controls",
            "_model_module_version": "1.5.0",
            "_view_count": null,
            "_view_module_version": "1.5.0",
            "box_style": "",
            "layout": "IPY_MODEL_23e4f020ce9f423bb169cff9e4f4385b",
            "_model_module": "@jupyter-widgets/controls",
            "children": [
              "IPY_MODEL_a7cfdcec3edf4ccca2babbc45e3344a3",
              "IPY_MODEL_d3e27f611175447d91fa7ef047ed0d94"
            ]
          }
        },
        "23e4f020ce9f423bb169cff9e4f4385b": {
          "model_module": "@jupyter-widgets/base",
          "model_name": "LayoutModel",
          "state": {
            "_view_name": "LayoutView",
            "grid_template_rows": null,
            "right": null,
            "justify_content": null,
            "_view_module": "@jupyter-widgets/base",
            "overflow": null,
            "_model_module_version": "1.2.0",
            "_view_count": null,
            "flex_flow": null,
            "width": null,
            "min_width": null,
            "border": null,
            "align_items": null,
            "bottom": null,
            "_model_module": "@jupyter-widgets/base",
            "top": null,
            "grid_column": null,
            "overflow_y": null,
            "overflow_x": null,
            "grid_auto_flow": null,
            "grid_area": null,
            "grid_template_columns": null,
            "flex": null,
            "_model_name": "LayoutModel",
            "justify_items": null,
            "grid_row": null,
            "max_height": null,
            "align_content": null,
            "visibility": null,
            "align_self": null,
            "height": null,
            "min_height": null,
            "padding": null,
            "grid_auto_rows": null,
            "grid_gap": null,
            "max_width": null,
            "order": null,
            "_view_module_version": "1.2.0",
            "grid_template_areas": null,
            "object_position": null,
            "object_fit": null,
            "grid_auto_columns": null,
            "margin": null,
            "display": null,
            "left": null
          }
        },
        "a7cfdcec3edf4ccca2babbc45e3344a3": {
          "model_module": "@jupyter-widgets/controls",
          "model_name": "FloatProgressModel",
          "state": {
            "_view_name": "ProgressView",
            "style": "IPY_MODEL_2e1b5e4b76764167ac03b7efc2b8b16d",
            "_dom_classes": [],
            "description": "Downloading https://raw.githubusercontent.com/stanfordnlp/stanza-resources/main/resources_1.2.1.json: ",
            "_model_name": "FloatProgressModel",
            "bar_style": "success",
            "max": 23895,
            "_view_module": "@jupyter-widgets/controls",
            "_model_module_version": "1.5.0",
            "value": 23895,
            "_view_count": null,
            "_view_module_version": "1.5.0",
            "orientation": "horizontal",
            "min": 0,
            "description_tooltip": null,
            "_model_module": "@jupyter-widgets/controls",
            "layout": "IPY_MODEL_0ef09a354ff84a6c98bcc301ab90c064"
          }
        },
        "d3e27f611175447d91fa7ef047ed0d94": {
          "model_module": "@jupyter-widgets/controls",
          "model_name": "HTMLModel",
          "state": {
            "_view_name": "HTMLView",
            "style": "IPY_MODEL_fdc036bcde2e4e10b185cfc83829f672",
            "_dom_classes": [],
            "description": "",
            "_model_name": "HTMLModel",
            "placeholder": "​",
            "_view_module": "@jupyter-widgets/controls",
            "_model_module_version": "1.5.0",
            "value": " 139k/? [00:00&lt;00:00, 3.75MB/s]",
            "_view_count": null,
            "_view_module_version": "1.5.0",
            "description_tooltip": null,
            "_model_module": "@jupyter-widgets/controls",
            "layout": "IPY_MODEL_37320ee07e2f4b39a021cb4c8419d7f4"
          }
        },
        "2e1b5e4b76764167ac03b7efc2b8b16d": {
          "model_module": "@jupyter-widgets/controls",
          "model_name": "ProgressStyleModel",
          "state": {
            "_view_name": "StyleView",
            "_model_name": "ProgressStyleModel",
            "description_width": "initial",
            "_view_module": "@jupyter-widgets/base",
            "_model_module_version": "1.5.0",
            "_view_count": null,
            "_view_module_version": "1.2.0",
            "bar_color": null,
            "_model_module": "@jupyter-widgets/controls"
          }
        },
        "0ef09a354ff84a6c98bcc301ab90c064": {
          "model_module": "@jupyter-widgets/base",
          "model_name": "LayoutModel",
          "state": {
            "_view_name": "LayoutView",
            "grid_template_rows": null,
            "right": null,
            "justify_content": null,
            "_view_module": "@jupyter-widgets/base",
            "overflow": null,
            "_model_module_version": "1.2.0",
            "_view_count": null,
            "flex_flow": null,
            "width": null,
            "min_width": null,
            "border": null,
            "align_items": null,
            "bottom": null,
            "_model_module": "@jupyter-widgets/base",
            "top": null,
            "grid_column": null,
            "overflow_y": null,
            "overflow_x": null,
            "grid_auto_flow": null,
            "grid_area": null,
            "grid_template_columns": null,
            "flex": null,
            "_model_name": "LayoutModel",
            "justify_items": null,
            "grid_row": null,
            "max_height": null,
            "align_content": null,
            "visibility": null,
            "align_self": null,
            "height": null,
            "min_height": null,
            "padding": null,
            "grid_auto_rows": null,
            "grid_gap": null,
            "max_width": null,
            "order": null,
            "_view_module_version": "1.2.0",
            "grid_template_areas": null,
            "object_position": null,
            "object_fit": null,
            "grid_auto_columns": null,
            "margin": null,
            "display": null,
            "left": null
          }
        },
        "fdc036bcde2e4e10b185cfc83829f672": {
          "model_module": "@jupyter-widgets/controls",
          "model_name": "DescriptionStyleModel",
          "state": {
            "_view_name": "StyleView",
            "_model_name": "DescriptionStyleModel",
            "description_width": "",
            "_view_module": "@jupyter-widgets/base",
            "_model_module_version": "1.5.0",
            "_view_count": null,
            "_view_module_version": "1.2.0",
            "_model_module": "@jupyter-widgets/controls"
          }
        },
        "37320ee07e2f4b39a021cb4c8419d7f4": {
          "model_module": "@jupyter-widgets/base",
          "model_name": "LayoutModel",
          "state": {
            "_view_name": "LayoutView",
            "grid_template_rows": null,
            "right": null,
            "justify_content": null,
            "_view_module": "@jupyter-widgets/base",
            "overflow": null,
            "_model_module_version": "1.2.0",
            "_view_count": null,
            "flex_flow": null,
            "width": null,
            "min_width": null,
            "border": null,
            "align_items": null,
            "bottom": null,
            "_model_module": "@jupyter-widgets/base",
            "top": null,
            "grid_column": null,
            "overflow_y": null,
            "overflow_x": null,
            "grid_auto_flow": null,
            "grid_area": null,
            "grid_template_columns": null,
            "flex": null,
            "_model_name": "LayoutModel",
            "justify_items": null,
            "grid_row": null,
            "max_height": null,
            "align_content": null,
            "visibility": null,
            "align_self": null,
            "height": null,
            "min_height": null,
            "padding": null,
            "grid_auto_rows": null,
            "grid_gap": null,
            "max_width": null,
            "order": null,
            "_view_module_version": "1.2.0",
            "grid_template_areas": null,
            "object_position": null,
            "object_fit": null,
            "grid_auto_columns": null,
            "margin": null,
            "display": null,
            "left": null
          }
        },
        "7ee0c69cdd82498c8958bef22f746df2": {
          "model_module": "@jupyter-widgets/controls",
          "model_name": "HBoxModel",
          "state": {
            "_view_name": "HBoxView",
            "_dom_classes": [],
            "_model_name": "HBoxModel",
            "_view_module": "@jupyter-widgets/controls",
            "_model_module_version": "1.5.0",
            "_view_count": null,
            "_view_module_version": "1.5.0",
            "box_style": "",
            "layout": "IPY_MODEL_c8d09aa02cc449bdb4984e5f9e975321",
            "_model_module": "@jupyter-widgets/controls",
            "children": [
              "IPY_MODEL_99d7cf58f3044e3abf31c066749f8603",
              "IPY_MODEL_45847d81301a4bbe810940cbbd198d74"
            ]
          }
        },
        "c8d09aa02cc449bdb4984e5f9e975321": {
          "model_module": "@jupyter-widgets/base",
          "model_name": "LayoutModel",
          "state": {
            "_view_name": "LayoutView",
            "grid_template_rows": null,
            "right": null,
            "justify_content": null,
            "_view_module": "@jupyter-widgets/base",
            "overflow": null,
            "_model_module_version": "1.2.0",
            "_view_count": null,
            "flex_flow": null,
            "width": null,
            "min_width": null,
            "border": null,
            "align_items": null,
            "bottom": null,
            "_model_module": "@jupyter-widgets/base",
            "top": null,
            "grid_column": null,
            "overflow_y": null,
            "overflow_x": null,
            "grid_auto_flow": null,
            "grid_area": null,
            "grid_template_columns": null,
            "flex": null,
            "_model_name": "LayoutModel",
            "justify_items": null,
            "grid_row": null,
            "max_height": null,
            "align_content": null,
            "visibility": null,
            "align_self": null,
            "height": null,
            "min_height": null,
            "padding": null,
            "grid_auto_rows": null,
            "grid_gap": null,
            "max_width": null,
            "order": null,
            "_view_module_version": "1.2.0",
            "grid_template_areas": null,
            "object_position": null,
            "object_fit": null,
            "grid_auto_columns": null,
            "margin": null,
            "display": null,
            "left": null
          }
        },
        "99d7cf58f3044e3abf31c066749f8603": {
          "model_module": "@jupyter-widgets/controls",
          "model_name": "FloatProgressModel",
          "state": {
            "_view_name": "ProgressView",
            "style": "IPY_MODEL_13f12bc4dcdb4f4ead2caf35f15c2ed0",
            "_dom_classes": [],
            "description": "Downloading http://nlp.stanford.edu/software/stanza/1.2.1/es/default.zip:   7%",
            "_model_name": "FloatProgressModel",
            "bar_style": "",
            "max": 565553347,
            "_view_module": "@jupyter-widgets/controls",
            "_model_module_version": "1.5.0",
            "value": 41549824,
            "_view_count": null,
            "_view_module_version": "1.5.0",
            "orientation": "horizontal",
            "min": 0,
            "description_tooltip": null,
            "_model_module": "@jupyter-widgets/controls",
            "layout": "IPY_MODEL_3f980bccc8aa4c2d8864bbcc7ca72b48"
          }
        },
        "45847d81301a4bbe810940cbbd198d74": {
          "model_module": "@jupyter-widgets/controls",
          "model_name": "HTMLModel",
          "state": {
            "_view_name": "HTMLView",
            "style": "IPY_MODEL_0791fde9e9ec414ebacd9583b2b21e4c",
            "_dom_classes": [],
            "description": "",
            "_model_name": "HTMLModel",
            "placeholder": "​",
            "_view_module": "@jupyter-widgets/controls",
            "_model_module_version": "1.5.0",
            "value": " 41.5M/566M [00:04&lt;01:40, 5.20MB/s]",
            "_view_count": null,
            "_view_module_version": "1.5.0",
            "description_tooltip": null,
            "_model_module": "@jupyter-widgets/controls",
            "layout": "IPY_MODEL_e571bd3d53484b159736dc8d01face83"
          }
        },
        "13f12bc4dcdb4f4ead2caf35f15c2ed0": {
          "model_module": "@jupyter-widgets/controls",
          "model_name": "ProgressStyleModel",
          "state": {
            "_view_name": "StyleView",
            "_model_name": "ProgressStyleModel",
            "description_width": "initial",
            "_view_module": "@jupyter-widgets/base",
            "_model_module_version": "1.5.0",
            "_view_count": null,
            "_view_module_version": "1.2.0",
            "bar_color": null,
            "_model_module": "@jupyter-widgets/controls"
          }
        },
        "3f980bccc8aa4c2d8864bbcc7ca72b48": {
          "model_module": "@jupyter-widgets/base",
          "model_name": "LayoutModel",
          "state": {
            "_view_name": "LayoutView",
            "grid_template_rows": null,
            "right": null,
            "justify_content": null,
            "_view_module": "@jupyter-widgets/base",
            "overflow": null,
            "_model_module_version": "1.2.0",
            "_view_count": null,
            "flex_flow": null,
            "width": null,
            "min_width": null,
            "border": null,
            "align_items": null,
            "bottom": null,
            "_model_module": "@jupyter-widgets/base",
            "top": null,
            "grid_column": null,
            "overflow_y": null,
            "overflow_x": null,
            "grid_auto_flow": null,
            "grid_area": null,
            "grid_template_columns": null,
            "flex": null,
            "_model_name": "LayoutModel",
            "justify_items": null,
            "grid_row": null,
            "max_height": null,
            "align_content": null,
            "visibility": null,
            "align_self": null,
            "height": null,
            "min_height": null,
            "padding": null,
            "grid_auto_rows": null,
            "grid_gap": null,
            "max_width": null,
            "order": null,
            "_view_module_version": "1.2.0",
            "grid_template_areas": null,
            "object_position": null,
            "object_fit": null,
            "grid_auto_columns": null,
            "margin": null,
            "display": null,
            "left": null
          }
        },
        "0791fde9e9ec414ebacd9583b2b21e4c": {
          "model_module": "@jupyter-widgets/controls",
          "model_name": "DescriptionStyleModel",
          "state": {
            "_view_name": "StyleView",
            "_model_name": "DescriptionStyleModel",
            "description_width": "",
            "_view_module": "@jupyter-widgets/base",
            "_model_module_version": "1.5.0",
            "_view_count": null,
            "_view_module_version": "1.2.0",
            "_model_module": "@jupyter-widgets/controls"
          }
        },
        "e571bd3d53484b159736dc8d01face83": {
          "model_module": "@jupyter-widgets/base",
          "model_name": "LayoutModel",
          "state": {
            "_view_name": "LayoutView",
            "grid_template_rows": null,
            "right": null,
            "justify_content": null,
            "_view_module": "@jupyter-widgets/base",
            "overflow": null,
            "_model_module_version": "1.2.0",
            "_view_count": null,
            "flex_flow": null,
            "width": null,
            "min_width": null,
            "border": null,
            "align_items": null,
            "bottom": null,
            "_model_module": "@jupyter-widgets/base",
            "top": null,
            "grid_column": null,
            "overflow_y": null,
            "overflow_x": null,
            "grid_auto_flow": null,
            "grid_area": null,
            "grid_template_columns": null,
            "flex": null,
            "_model_name": "LayoutModel",
            "justify_items": null,
            "grid_row": null,
            "max_height": null,
            "align_content": null,
            "visibility": null,
            "align_self": null,
            "height": null,
            "min_height": null,
            "padding": null,
            "grid_auto_rows": null,
            "grid_gap": null,
            "max_width": null,
            "order": null,
            "_view_module_version": "1.2.0",
            "grid_template_areas": null,
            "object_position": null,
            "object_fit": null,
            "grid_auto_columns": null,
            "margin": null,
            "display": null,
            "left": null
          }
        }
      }
    }
  },
  "cells": [
    {
      "cell_type": "markdown",
      "metadata": {
        "id": "s_qNSzzyaCbD"
      },
      "source": [
        "##### Copyright 2019 The TensorFlow Authors."
      ]
    },
    {
      "cell_type": "code",
      "metadata": {
        "cellView": "form",
        "id": "jmjh290raIky"
      },
      "source": [
        "#@title Licensed under the Apache License, Version 2.0 (the \"License\");\n",
        "# you may not use this file except in compliance with the License.\n",
        "# You may obtain a copy of the License at\n",
        "#\n",
        "# https://www.apache.org/licenses/LICENSE-2.0\n",
        "#\n",
        "# Unless required by applicable law or agreed to in writing, software\n",
        "# distributed under the License is distributed on an \"AS IS\" BASIS,\n",
        "# WITHOUT WARRANTIES OR CONDITIONS OF ANY KIND, either express or implied.\n",
        "# See the License for the specific language governing permissions and\n",
        "# limitations under the License."
      ],
      "execution_count": 1,
      "outputs": []
    },
    {
      "cell_type": "markdown",
      "metadata": {
        "id": "J0Qjg6vuaHNt"
      },
      "source": [
        "# Neural machine translation with attention"
      ]
    },
    {
      "cell_type": "markdown",
      "metadata": {
        "id": "AOpGoE2T-YXS"
      },
      "source": [
        "<table class=\"tfo-notebook-buttons\" align=\"left\">\n",
        "  <td>\n",
        "    <a target=\"_blank\" href=\"https://www.tensorflow.org/tutorials/text/nmt_with_attention\">\n",
        "    <img src=\"https://www.tensorflow.org/images/tf_logo_32px.png\" />\n",
        "    View on TensorFlow.org</a>\n",
        "  </td>\n",
        "  <td>\n",
        "    <a target=\"_blank\" href=\"https://colab.research.google.com/github/tensorflow/docs/blob/master/site/en/tutorials/text/nmt_with_attention.ipynb\">\n",
        "    <img src=\"https://www.tensorflow.org/images/colab_logo_32px.png\" />\n",
        "    Run in Google Colab</a>\n",
        "  </td>\n",
        "  <td>\n",
        "    <a target=\"_blank\" href=\"https://github.com/tensorflow/docs/blob/master/site/en/tutorials/text/nmt_with_attention.ipynb\">\n",
        "    <img src=\"https://www.tensorflow.org/images/GitHub-Mark-32px.png\" />\n",
        "    View source on GitHub</a>\n",
        "  </td>\n",
        "  <td>\n",
        "    <a href=\"https://storage.googleapis.com/tensorflow_docs/docs/site/en/tutorials/text/nmt_with_attention.ipynb\"><img src=\"https://www.tensorflow.org/images/download_logo_32px.png\" />Download notebook</a>\n",
        "  </td>\n",
        "</table>"
      ]
    },
    {
      "cell_type": "markdown",
      "metadata": {
        "id": "CiwtNgENbx2g"
      },
      "source": [
        "This notebook trains a sequence to sequence (seq2seq) model for Spanish to English translation. This is an advanced example that assumes some knowledge of sequence to sequence models.\n",
        "\n",
        "After training the model in this notebook, you will be able to input a Spanish sentence, such as *\"¿todavia estan en casa?\"*, and return the English translation: *\"are you still at home?\"*\n",
        "\n",
        "The translation quality is reasonable for a toy example, but the generated attention plot is perhaps more interesting. This shows which parts of the input sentence has the model's attention while translating:\n",
        "\n",
        "<img src=\"https://tensorflow.org/images/spanish-english.png\" alt=\"spanish-english attention plot\">\n",
        "\n",
        "Note: This example takes approximately 10 minutes to run on a single P100 GPU."
      ]
    },
    {
      "cell_type": "code",
      "metadata": {
        "colab": {
          "base_uri": "https://localhost:8080/"
        },
        "id": "0Tv61_9TpBX7",
        "outputId": "4a598ab3-118b-4eb4-ca37-79e935ef84ae"
      },
      "source": [
        "# Copyright 2021 Gerard Garcia\n",
        "\n",
        "# Licensed under the Apache License, Version 2.0 (the \"License\");\n",
        "# you may not use this file except in compliance with the License.\n",
        "# You may obtain a copy of the License at\n",
        "\n",
        "#     http://www.apache.org/licenses/LICENSE-2.0\n",
        "\n",
        "# Unless required by applicable law or agreed to in writing, software\n",
        "# distributed under the License is distributed on an \"AS IS\" BASIS,\n",
        "# WITHOUT WARRANTIES OR CONDITIONS OF ANY KIND, either express or implied.\n",
        "# See the License for the specific language governing permissions and\n",
        "# limitations under the License.\n",
        "!pip install stanza"
      ],
      "execution_count": 2,
      "outputs": [
        {
          "output_type": "stream",
          "text": [
            "Collecting stanza\n",
            "\u001b[?25l  Downloading https://files.pythonhosted.org/packages/2d/f3/cd7eaacabcec195a1c6c07b08cf1587b9f3f8754feba5c87d28867d75671/stanza-1.2.1-py3-none-any.whl (334kB)\n",
            "\r\u001b[K     |█                               | 10kB 11.8MB/s eta 0:00:01\r\u001b[K     |██                              | 20kB 18.1MB/s eta 0:00:01\r\u001b[K     |███                             | 30kB 12.1MB/s eta 0:00:01\r\u001b[K     |████                            | 40kB 9.3MB/s eta 0:00:01\r\u001b[K     |█████                           | 51kB 5.6MB/s eta 0:00:01\r\u001b[K     |█████▉                          | 61kB 6.1MB/s eta 0:00:01\r\u001b[K     |██████▉                         | 71kB 6.0MB/s eta 0:00:01\r\u001b[K     |███████▉                        | 81kB 6.5MB/s eta 0:00:01\r\u001b[K     |████████▉                       | 92kB 6.7MB/s eta 0:00:01\r\u001b[K     |█████████▉                      | 102kB 7.0MB/s eta 0:00:01\r\u001b[K     |██████████▊                     | 112kB 7.0MB/s eta 0:00:01\r\u001b[K     |███████████▊                    | 122kB 7.0MB/s eta 0:00:01\r\u001b[K     |████████████▊                   | 133kB 7.0MB/s eta 0:00:01\r\u001b[K     |█████████████▊                  | 143kB 7.0MB/s eta 0:00:01\r\u001b[K     |██████████████▊                 | 153kB 7.0MB/s eta 0:00:01\r\u001b[K     |███████████████▊                | 163kB 7.0MB/s eta 0:00:01\r\u001b[K     |████████████████▋               | 174kB 7.0MB/s eta 0:00:01\r\u001b[K     |█████████████████▋              | 184kB 7.0MB/s eta 0:00:01\r\u001b[K     |██████████████████▋             | 194kB 7.0MB/s eta 0:00:01\r\u001b[K     |███████████████████▋            | 204kB 7.0MB/s eta 0:00:01\r\u001b[K     |████████████████████▋           | 215kB 7.0MB/s eta 0:00:01\r\u001b[K     |█████████████████████▌          | 225kB 7.0MB/s eta 0:00:01\r\u001b[K     |██████████████████████▌         | 235kB 7.0MB/s eta 0:00:01\r\u001b[K     |███████████████████████▌        | 245kB 7.0MB/s eta 0:00:01\r\u001b[K     |████████████████████████▌       | 256kB 7.0MB/s eta 0:00:01\r\u001b[K     |█████████████████████████▌      | 266kB 7.0MB/s eta 0:00:01\r\u001b[K     |██████████████████████████▍     | 276kB 7.0MB/s eta 0:00:01\r\u001b[K     |███████████████████████████▍    | 286kB 7.0MB/s eta 0:00:01\r\u001b[K     |████████████████████████████▍   | 296kB 7.0MB/s eta 0:00:01\r\u001b[K     |█████████████████████████████▍  | 307kB 7.0MB/s eta 0:00:01\r\u001b[K     |██████████████████████████████▍ | 317kB 7.0MB/s eta 0:00:01\r\u001b[K     |███████████████████████████████▍| 327kB 7.0MB/s eta 0:00:01\r\u001b[K     |████████████████████████████████| 337kB 7.0MB/s \n",
            "\u001b[?25hRequirement already satisfied: protobuf in /usr/local/lib/python3.7/dist-packages (from stanza) (3.12.4)\n",
            "Requirement already satisfied: tqdm in /usr/local/lib/python3.7/dist-packages (from stanza) (4.41.1)\n",
            "Requirement already satisfied: torch>=1.3.0 in /usr/local/lib/python3.7/dist-packages (from stanza) (1.9.0+cu102)\n",
            "Requirement already satisfied: numpy in /usr/local/lib/python3.7/dist-packages (from stanza) (1.19.5)\n",
            "Requirement already satisfied: requests in /usr/local/lib/python3.7/dist-packages (from stanza) (2.23.0)\n",
            "Requirement already satisfied: setuptools in /usr/local/lib/python3.7/dist-packages (from protobuf->stanza) (57.0.0)\n",
            "Requirement already satisfied: six>=1.9 in /usr/local/lib/python3.7/dist-packages (from protobuf->stanza) (1.15.0)\n",
            "Requirement already satisfied: typing-extensions in /usr/local/lib/python3.7/dist-packages (from torch>=1.3.0->stanza) (3.7.4.3)\n",
            "Requirement already satisfied: certifi>=2017.4.17 in /usr/local/lib/python3.7/dist-packages (from requests->stanza) (2021.5.30)\n",
            "Requirement already satisfied: urllib3!=1.25.0,!=1.25.1,<1.26,>=1.21.1 in /usr/local/lib/python3.7/dist-packages (from requests->stanza) (1.24.3)\n",
            "Requirement already satisfied: chardet<4,>=3.0.2 in /usr/local/lib/python3.7/dist-packages (from requests->stanza) (3.0.4)\n",
            "Requirement already satisfied: idna<3,>=2.5 in /usr/local/lib/python3.7/dist-packages (from requests->stanza) (2.10)\n",
            "Installing collected packages: stanza\n",
            "Successfully installed stanza-1.2.1\n"
          ],
          "name": "stdout"
        }
      ]
    },
    {
      "cell_type": "code",
      "metadata": {
        "colab": {
          "base_uri": "https://localhost:8080/",
          "height": 116,
          "referenced_widgets": [
            "80aa7ff2e6f04943940cc908c04c3914",
            "23e4f020ce9f423bb169cff9e4f4385b",
            "a7cfdcec3edf4ccca2babbc45e3344a3",
            "d3e27f611175447d91fa7ef047ed0d94",
            "2e1b5e4b76764167ac03b7efc2b8b16d",
            "0ef09a354ff84a6c98bcc301ab90c064",
            "fdc036bcde2e4e10b185cfc83829f672",
            "37320ee07e2f4b39a021cb4c8419d7f4",
            "7ee0c69cdd82498c8958bef22f746df2",
            "c8d09aa02cc449bdb4984e5f9e975321",
            "99d7cf58f3044e3abf31c066749f8603",
            "45847d81301a4bbe810940cbbd198d74",
            "13f12bc4dcdb4f4ead2caf35f15c2ed0",
            "3f980bccc8aa4c2d8864bbcc7ca72b48",
            "0791fde9e9ec414ebacd9583b2b21e4c",
            "e571bd3d53484b159736dc8d01face83"
          ]
        },
        "id": "tnxXKDjq3jEL",
        "outputId": "6dacf6c4-9656-4182-a60e-d679141dbcb3"
      },
      "source": [
        "import tensorflow as tf\n",
        "\n",
        "import matplotlib.pyplot as plt\n",
        "\n",
        "import matplotlib.ticker as ticker\n",
        "from sklearn.model_selection import train_test_split\n",
        "from google.colab import drive\n",
        "import unicodedata\n",
        "import re\n",
        "import numpy as np\n",
        "import os\n",
        "import io\n",
        "import time\n",
        "import stanza\n",
        "import pickle\n",
        "from nltk.translate.bleu_score import sentence_bleu\n",
        "\n",
        "stanza.download('es') # download Spanish model"
      ],
      "execution_count": null,
      "outputs": [
        {
          "output_type": "display_data",
          "data": {
            "application/vnd.jupyter.widget-view+json": {
              "model_id": "80aa7ff2e6f04943940cc908c04c3914",
              "version_minor": 0,
              "version_major": 2
            },
            "text/plain": [
              "HBox(children=(FloatProgress(value=0.0, description='Downloading https://raw.githubusercontent.com/stanfordnlp…"
            ]
          },
          "metadata": {
            "tags": []
          }
        },
        {
          "output_type": "stream",
          "text": [
            "2021-07-02 11:18:01 INFO: Downloading default packages for language: es (Spanish)...\n"
          ],
          "name": "stderr"
        },
        {
          "output_type": "stream",
          "text": [
            "\n"
          ],
          "name": "stdout"
        },
        {
          "output_type": "display_data",
          "data": {
            "application/vnd.jupyter.widget-view+json": {
              "model_id": "7ee0c69cdd82498c8958bef22f746df2",
              "version_minor": 0,
              "version_major": 2
            },
            "text/plain": [
              "HBox(children=(FloatProgress(value=0.0, description='Downloading http://nlp.stanford.edu/software/stanza/1.2.1…"
            ]
          },
          "metadata": {
            "tags": []
          }
        }
      ]
    },
    {
      "cell_type": "markdown",
      "metadata": {
        "id": "wfodePkj3jEa"
      },
      "source": [
        "## Download and prepare the dataset\n",
        "\n",
        "We'll use a language dataset provided by http://www.manythings.org/anki/. This dataset contains language translation pairs in the format:\n",
        "\n",
        "```\n",
        "May I borrow this book?\t¿Puedo tomar prestado este libro?\n",
        "```\n",
        "\n",
        "There are a variety of languages available, but we'll use the English-Spanish dataset. For convenience, we've hosted a copy of this dataset on Google Cloud, but you can also download your own copy. After downloading the dataset, here are the steps we'll take to prepare the data:\n",
        "\n",
        "1. Add a *start* and *end* token to each sentence.\n",
        "2. Clean the sentences by removing special characters.\n",
        "3. Create a word index and reverse word index (dictionaries mapping from word → id and id → word).\n",
        "4. Pad each sentence to a maximum length."
      ]
    },
    {
      "cell_type": "code",
      "metadata": {
        "id": "rd0jw-eC3jEh"
      },
      "source": [
        "# Converts the unicode file to ascii\n",
        "def unicode_to_ascii(s):\n",
        "  return ''.join(c for c in unicodedata.normalize('NFD', s)\n",
        "                 if unicodedata.category(c) != 'Mn')\n",
        "\n",
        "\n",
        "def preprocess_sentence(w):\n",
        "  w = unicode_to_ascii(w.lower().strip())\n",
        "\n",
        "  # creating a space between a word and the punctuation following it\n",
        "  # eg: \"he is a boy.\" => \"he is a boy .\"\n",
        "  # Reference:- https://stackoverflow.com/questions/3645931/python-padding-punctuation-with-white-spaces-keeping-punctuation\n",
        "  # w = re.sub(r\"([?.¡!,¿])\", r\" \\1 \", w) #Interjection chars to \\1\n",
        "\n",
        "  # replacing everything with space except (a-z, A-Z, \"-\", \"\\\", \"{\", \"}\")\n",
        "  w = re.sub(r\"[^a-zA-Z0-9\\\\{}<>-]+\", \" \", w)\n",
        "  # Interjection chars to \\1\n",
        "  w = re.sub(r\"([¡¿])\", r\" \\1 \", w)\n",
        "  # Set space between exclamation and words\n",
        "  w = re.sub(r\"([!])\", r\" !\", w)\n",
        "  # Set space between interrogation and words \n",
        "  w = re.sub(r\"([?])\", r\" ? \", w)\n",
        "  # Multiple spaces to one space\n",
        "  w = re.sub(r'[\" \"]+', \" \", w)\n",
        "\n",
        "  w = w.strip()\n",
        "\n",
        "  # adding a start and an end token to the sentence\n",
        "  # so that the model know when to start and stop predicting.\n",
        "  w = '<start> ' + w + ' <end>'\n",
        "  return str(w)\n",
        "\n",
        "# 1. Remove the accents\n",
        "# 2. Clean the sentences\n",
        "# 3. Return word pairs in the format: [SPANISH, LSE]\n",
        "\n",
        "#Dataset format SENTENCE1\\tSENTENCE2\\n\n",
        "def create_dataset(path, num_examples=None):\n",
        "  lines = io.open(path, encoding='UTF-8').read().strip().split('\\n')\n",
        "\n",
        "  word_pairs = [[preprocess_sentence(w) for w in line.split('\\t')]\n",
        "                for line in lines[:num_examples]]\n",
        "\n",
        "  return zip(*word_pairs)"
      ],
      "execution_count": null,
      "outputs": []
    },
    {
      "cell_type": "markdown",
      "metadata": {
        "id": "SsplU_F-lfDP"
      },
      "source": [
        "### Process stanza POSTagged Text"
      ]
    },
    {
      "cell_type": "code",
      "metadata": {
        "id": "rHPd3UjSlejl"
      },
      "source": [
        "def get_feats(feats_str, selected_feats=None):\n",
        "  #Get the features processed from a string like (feat=value|...) to a list object\n",
        "  feats_obj = {}\n",
        "  if feats_str != None:\n",
        "    feats = str(feats_str).split('|')\n",
        "    for feat in feats:\n",
        "      # print(feat)\n",
        "      splitted = feat.split('=')\n",
        "      key = splitted[0]\n",
        "      value = splitted[1]\n",
        "      if selected_feats == None or key in selected_feats:\n",
        "        feats_obj[key] = value\n",
        "  return feats_obj\n",
        "\n",
        "def process_text(nlp_text):\n",
        "  result = []\n",
        "  for document in nlp_text:\n",
        "    for sentence in document.sentences:\n",
        "      sent = []\n",
        "      for word in sentence.words:\n",
        "        pos = word.upos\n",
        "        if pos != \"DET\":\n",
        "          if word.text == \"<start>\" or word.text == \"<end>\" or word.text == \"<unk>\":\n",
        "            elem = {\n",
        "                \"text\": word.text,\n",
        "                \"lemma\": word.text\n",
        "            }\n",
        "          if pos == \"PUNCT\" or pos == \"ADP\":\n",
        "            elem = {\n",
        "                \"text\": word.text,\n",
        "                \"lemma\": word.text,\n",
        "                \"upos\": word.upos\n",
        "            }\n",
        "          elif pos == \"NOUN\":\n",
        "            #Text and plural/singular\n",
        "            feats = get_feats(word.feats, [\"Number\", \"Gender\"])\n",
        "            elem = {\n",
        "                \"text\": word.text,\n",
        "                \"lemma\": word.lemma,\n",
        "                \"feats\": feats,\n",
        "                \"upos\": word.upos,\n",
        "                \"xpos\": word.xpos\n",
        "            }\n",
        "          elif pos == \"VERB\" or pos == \"AUX\":\n",
        "            #Text and person/tense/verbform\n",
        "            feats = get_feats(word.feats, [\"Person\", \"Tense\", \"VerbForm\"])\n",
        "            elem = {\n",
        "                \"text\": word.text,\n",
        "                \"lemma\": word.lemma,\n",
        "                \"feats\": feats,\n",
        "                \"upos\": word.upos,\n",
        "                \"xpos\": word.xpos\n",
        "            }\n",
        "          elif pos == \"ADV\":\n",
        "            elem = {\n",
        "                \"text\": word.text,\n",
        "                \"lemma\": word.lemma,\n",
        "                \"upos\": word.upos\n",
        "            }\n",
        "          elif pos == \"ADJ\":\n",
        "            feats = get_feats(word.feats, [\"Gender\", \"Number\"])\n",
        "            elem = {\n",
        "                \"text\": word.text,\n",
        "                \"lemma\": word.lemma,\n",
        "                \"feats\": feats,\n",
        "                \"upos\": word.upos\n",
        "            }\n",
        "          else:\n",
        "            feats = get_feats(word.feats)\n",
        "            elem = {\n",
        "                \"text\": word.text,\n",
        "                \"lemma\": word.lemma,\n",
        "                \"feats\": feats,\n",
        "                \"upos\": word.upos\n",
        "            }\n",
        "          sent.append(elem)\n",
        "      result.append(sent)\n",
        "  return result\n",
        "\n",
        "def get_lemma_sentences(sentences_postagged):\n",
        "  #Return all sentences simplified with lemma words\n",
        "  processed_inp_lang = []\n",
        "  for sentence_postagged in sentences_postagged:\n",
        "    sentence = \"\"\n",
        "    for word in sentence_postagged:\n",
        "      # print(word)\n",
        "      if word['text'] == \"<start>\" or word['text'] == \"<end>\" or word['text'] == \"<unk>\":\n",
        "        sentence += word[\"text\"]+ \" \"\n",
        "      else:\n",
        "        sentence += word[\"lemma\"]+ \" \"\n",
        "    processed_inp_lang.append(sentence)\n",
        "  return processed_inp_lang"
      ],
      "execution_count": null,
      "outputs": []
    },
    {
      "cell_type": "code",
      "metadata": {
        "id": "opI2GzOt479E"
      },
      "source": [
        "# en_sentence = u\"May I borrow this book?\"\n",
        "# sp_sentence = u\"¿Puedo tomar prestado este libro?\"\n",
        "# print(preprocess_sentence(en_sentence))\n",
        "# print(preprocess_sentence(sp_sentence).encode('utf-8'))"
      ],
      "execution_count": null,
      "outputs": []
    },
    {
      "cell_type": "code",
      "metadata": {
        "id": "bIOn8RCNDJXG"
      },
      "source": [
        "def tokenize(lang):\n",
        "  #Assign a value for each different word in the dictionary\n",
        "  lang_tokenizer = tf.keras.preprocessing.text.Tokenizer(filters='')\n",
        "  lang_tokenizer.fit_on_texts(lang)\n",
        "\n",
        "  tensor = lang_tokenizer.texts_to_sequences(lang)\n",
        "\n",
        "  tensor = tf.keras.preprocessing.sequence.pad_sequences(tensor,\n",
        "                                                         padding='post')\n",
        "\n",
        "  return tensor, lang_tokenizer\n",
        "\n",
        "def convert(lang, tensor):\n",
        "  #Test function to check tokenization\n",
        "  sentence = \"\"\n",
        "  for t in tensor:\n",
        "    if t != 0:\n",
        "      # print(f'{t} ----> {lang.index_word[t]}')\n",
        "      sentence = sentence + f\"{lang.index_word[t]} \"\n",
        "  # print(sentence)\n",
        "  return sentence\n",
        "\n",
        "\n",
        "def load_dataset(path, lemmatize=True, num_examples=None):\n",
        "  # creating cleaned input, output pairs\n",
        "  inp_lang_pre, targ_lang  = create_dataset(path, num_examples)\n",
        "  if lemmatize:\n",
        "    in_docs = [stanza.Document([], text=d) for d in list(inp_lang_pre)]\n",
        "    inp_postagged = nlp(in_docs)\n",
        "    inp_postagged2 = process_text(inp_postagged)\n",
        "    inp_lang = get_lemma_sentences(inp_postagged2)\n",
        "  else:\n",
        "    inp_lang = inp_lang_pre\n",
        "  input_tensor, inp_lang_tokenizer = tokenize(inp_lang)\n",
        "  target_tensor, targ_lang_tokenizer = tokenize(targ_lang)\n",
        "\n",
        "  return input_tensor, target_tensor, inp_lang_tokenizer, targ_lang_tokenizer"
      ],
      "execution_count": null,
      "outputs": []
    },
    {
      "cell_type": "code",
      "metadata": {
        "id": "dxm1OFgZM0j-"
      },
      "source": [
        "# def load_data_from_path(path):\n",
        "#   inp_lang, targ_lang = pickle.load(open(path, 'rb'))\n",
        "#   input_tensor, inp_lang_tokenizer = tokenize(inp_lang)\n",
        "#   target_tensor, targ_lang_tokenizer = tokenize(targ_lang)\n",
        "#   return input_tensor, target_tensor, inp_lang_tokenizer, targ_lang_tokenizer"
      ],
      "execution_count": null,
      "outputs": []
    },
    {
      "cell_type": "code",
      "metadata": {
        "id": "nq8q_jm6K9SL"
      },
      "source": [
        "# es, lse = create_dataset(os.path.dirname(\"/content/drive/MyDrive/TFG/\")+\"/lse_dictionary.txt\")\n",
        "# print(es[234],lse[234])"
      ],
      "execution_count": null,
      "outputs": []
    },
    {
      "cell_type": "markdown",
      "metadata": {
        "id": "TNfHIF71ulLu"
      },
      "source": [
        "## Write the encoder and decoder model\n",
        "\n",
        "Implement an encoder-decoder model with attention which you can read about in the TensorFlow [Neural Machine Translation (seq2seq) tutorial](https://github.com/tensorflow/nmt). This example uses a more recent set of APIs. This notebook implements the [attention equations](https://github.com/tensorflow/nmt#background-on-the-attention-mechanism) from the seq2seq tutorial. The following diagram shows that each input words is assigned a weight by the attention mechanism which is then used by the decoder to predict the next word in the sentence. The below picture and formulas are an example of attention mechanism from [Luong's paper](https://arxiv.org/abs/1508.04025v5). \n",
        "\n",
        "<img src=\"https://www.tensorflow.org/images/seq2seq/attention_mechanism.jpg\" width=\"500\" alt=\"attention mechanism\">\n",
        "\n",
        "The input is put through an encoder model which gives us the encoder output of shape *(batch_size, max_length, hidden_size)* and the encoder hidden state of shape *(batch_size, hidden_size)*.\n",
        "\n",
        "Here are the equations that are implemented:\n",
        "\n",
        "<img src=\"https://www.tensorflow.org/images/seq2seq/attention_equation_0.jpg\" alt=\"attention equation 0\" width=\"800\">\n",
        "<img src=\"https://www.tensorflow.org/images/seq2seq/attention_equation_1.jpg\" alt=\"attention equation 1\" width=\"800\">\n",
        "\n",
        "This tutorial uses [Bahdanau attention](https://arxiv.org/pdf/1409.0473.pdf) for the encoder. Let's decide on notation before writing the simplified form:\n",
        "\n",
        "* FC = Fully connected (dense) layer\n",
        "* EO = Encoder output\n",
        "* H = hidden state\n",
        "* X = input to the decoder\n",
        "\n",
        "And the pseudo-code:\n",
        "\n",
        "* `score = FC(tanh(FC(EO) + FC(H)))`\n",
        "* `attention weights = softmax(score, axis = 1)`. Softmax by default is applied on the last axis but here we want to apply it on the *1st axis*, since the shape of score is *(batch_size, max_length, hidden_size)*. `Max_length` is the length of our input. Since we are trying to assign a weight to each input, softmax should be applied on that axis.\n",
        "* `context vector = sum(attention weights * EO, axis = 1)`. Same reason as above for choosing axis as 1.\n",
        "* `embedding output` = The input to the decoder X is passed through an embedding layer.\n",
        "* `merged vector = concat(embedding output, context vector)`\n",
        "* This merged vector is then given to the GRU\n",
        "\n",
        "The shapes of all the vectors at each step have been specified in the comments in the code:"
      ]
    },
    {
      "cell_type": "code",
      "metadata": {
        "id": "nZ2rI24i3jFg"
      },
      "source": [
        "class Encoder(tf.keras.Model):\n",
        "  def __init__(self, vocab_size, embedding_dim, enc_units, batch_sz):\n",
        "    super(Encoder, self).__init__()\n",
        "    self.batch_sz = batch_sz\n",
        "    self.enc_units = enc_units\n",
        "    self.embedding = tf.keras.layers.Embedding(vocab_size, embedding_dim)\n",
        "    self.gru = tf.keras.layers.GRU(self.enc_units,\n",
        "                                   return_sequences=True,\n",
        "                                   return_state=True,\n",
        "                                   recurrent_initializer='glorot_uniform')\n",
        "\n",
        "  def call(self, x, hidden):\n",
        "    x = self.embedding(x)\n",
        "    output, state = self.gru(x, initial_state=hidden)\n",
        "    return output, state\n",
        "\n",
        "  def initialize_hidden_state(self):\n",
        "    return tf.zeros((self.batch_sz, self.enc_units))"
      ],
      "execution_count": null,
      "outputs": []
    },
    {
      "cell_type": "code",
      "metadata": {
        "id": "umohpBN2OM94"
      },
      "source": [
        "class BahdanauAttention(tf.keras.layers.Layer):\n",
        "  def __init__(self, units):\n",
        "    super(BahdanauAttention, self).__init__()\n",
        "    self.W1 = tf.keras.layers.Dense(units)\n",
        "    self.W2 = tf.keras.layers.Dense(units)\n",
        "    self.V = tf.keras.layers.Dense(1)\n",
        "\n",
        "  def call(self, query, values):\n",
        "    # query hidden state shape == (batch_size, hidden size)\n",
        "    # query_with_time_axis shape == (batch_size, 1, hidden size)\n",
        "    # values shape == (batch_size, max_len, hidden size)\n",
        "    # we are doing this to broadcast addition along the time axis to calculate the score\n",
        "    query_with_time_axis = tf.expand_dims(query, 1)\n",
        "\n",
        "    # score shape == (batch_size, max_length, 1)\n",
        "    # we get 1 at the last axis because we are applying score to self.V\n",
        "    # the shape of the tensor before applying self.V is (batch_size, max_length, units)\n",
        "    score = self.V(tf.nn.tanh(\n",
        "        self.W1(query_with_time_axis) + self.W2(values)))\n",
        "\n",
        "    # attention_weights shape == (batch_size, max_length, 1)\n",
        "    attention_weights = tf.nn.softmax(score, axis=1)\n",
        "\n",
        "    # context_vector shape after sum == (batch_size, hidden_size)\n",
        "    context_vector = attention_weights * values\n",
        "    context_vector = tf.reduce_sum(context_vector, axis=1)\n",
        "\n",
        "    return context_vector, attention_weights"
      ],
      "execution_count": null,
      "outputs": []
    },
    {
      "cell_type": "code",
      "metadata": {
        "id": "yJ_B3mhW3jFk"
      },
      "source": [
        "class Decoder(tf.keras.Model):\n",
        "  def __init__(self, vocab_size, embedding_dim, dec_units, batch_sz):\n",
        "    super(Decoder, self).__init__()\n",
        "    self.batch_sz = batch_sz\n",
        "    self.dec_units = dec_units\n",
        "    self.embedding = tf.keras.layers.Embedding(vocab_size, embedding_dim)\n",
        "    self.gru = tf.keras.layers.GRU(self.dec_units,\n",
        "                                   return_sequences=True,\n",
        "                                   return_state=True,\n",
        "                                   recurrent_initializer='glorot_uniform')\n",
        "    self.fc = tf.keras.layers.Dense(vocab_size)\n",
        "\n",
        "    # used for attention\n",
        "    self.attention = BahdanauAttention(self.dec_units)\n",
        "\n",
        "  def call(self, x, hidden, enc_output):\n",
        "    # enc_output shape == (batch_size, max_length, hidden_size)\n",
        "    context_vector, attention_weights = self.attention(hidden, enc_output)\n",
        "\n",
        "    # x shape after passing through embedding == (batch_size, 1, embedding_dim)\n",
        "    x = self.embedding(x)\n",
        "\n",
        "    # x shape after concatenation == (batch_size, 1, embedding_dim + hidden_size)\n",
        "    x = tf.concat([tf.expand_dims(context_vector, 1), x], axis=-1)\n",
        "\n",
        "    # passing the concatenated vector to the GRU\n",
        "    output, state = self.gru(x)\n",
        "\n",
        "    # output shape == (batch_size * 1, hidden_size)\n",
        "    output = tf.reshape(output, (-1, output.shape[2]))\n",
        "\n",
        "    # output shape == (batch_size, vocab)\n",
        "    x = self.fc(output)\n",
        "\n",
        "    return x, state, attention_weights"
      ],
      "execution_count": null,
      "outputs": []
    },
    {
      "cell_type": "code",
      "metadata": {
        "id": "60gSVh05Jl6l"
      },
      "source": [
        "def initModelsFromZero(vocab_inp_size, vocab_tar_size, embedding_dim, units, batch_size, example_input_batch):\n",
        "  #ENCODER MODEL\n",
        "  encoder = Encoder(vocab_inp_size, embedding_dim, units, batch_size)\n",
        "  sample_hidden = encoder.initialize_hidden_state()\n",
        "  sample_output, sample_hidden = encoder(example_input_batch, sample_hidden)\n",
        "  print('Encoder output shape: (batch size, sequence length, units)', sample_output.shape)\n",
        "  print('Encoder Hidden state shape: (batch size, units)', sample_hidden.shape)\n",
        "  # ATTENTION LAYER\n",
        "  attention_layer = BahdanauAttention(10)\n",
        "  attention_result, attention_weights = attention_layer(sample_hidden, sample_output)\n",
        "  print(\"Attention result shape: (batch size, units)\", attention_result.shape)\n",
        "  print(\"Attention weights shape: (batch_size, sequence_length, 1)\", attention_weights.shape)\n",
        "  #DECODER MODEL\n",
        "  decoder = Decoder(vocab_tar_size, embedding_dim, units, batch_size)\n",
        "  sample_decoder_output, _, _ = decoder(tf.random.uniform((batch_size, 1)),\n",
        "                                        sample_hidden, sample_output)\n",
        "  print('Decoder output shape: (batch_size, vocab size)', sample_decoder_output.shape)\n",
        "  return encoder, decoder"
      ],
      "execution_count": null,
      "outputs": []
    },
    {
      "cell_type": "code",
      "metadata": {
        "id": "tJbVB9GL0p1K"
      },
      "source": [
        "def loadModels(encoder_path, decoder_path):\n",
        "  loaded_encoder = Encoder(vocab_inp_size, embedding_dim, units, BATCH_SIZE)\n",
        "  loaded_decoder = Decoder(vocab_tar_size, embedding_dim, units, BATCH_SIZE)\n",
        "  attention_layer = BahdanauAttention(10)\n",
        "\n",
        "  loaded_encoder.load_weights(encoder_path)\n",
        "  loaded_decoder.load_weights(decoder_path)\n",
        "\n",
        "  sample_hidden = loaded_encoder.initialize_hidden_state()\n",
        "  sample_output, sample_hidden = loaded_encoder(example_input_batch, sample_hidden)\n",
        "  sample_decoder_output, _, _ = loaded_decoder(tf.random.uniform((BATCH_SIZE, 1)), sample_hidden, sample_output)\n",
        "  print('Encoder output shape: (batch size, sequence length, units)', sample_output.shape)\n",
        "  print('Encoder Hidden state shape: (batch size, units)', sample_hidden.shape)\n",
        "  print('Decoder output shape: (batch_size, vocab size)', sample_decoder_output.shape)\n",
        "\n",
        "  # ATTENTION LAYER\n",
        "  attention_result, attention_weights = attention_layer(sample_hidden, sample_output)\n",
        "  print(\"Attention result shape: (batch size, units)\", attention_result.shape)\n",
        "  print(\"Attention weights shape: (batch_size, sequence_length, 1)\", attention_weights.shape)\n",
        "  \n",
        "  return loaded_encoder, loaded_decoder"
      ],
      "execution_count": null,
      "outputs": []
    },
    {
      "cell_type": "markdown",
      "metadata": {
        "id": "_ch_71VbIRfK"
      },
      "source": [
        "## Define the loss function"
      ]
    },
    {
      "cell_type": "code",
      "metadata": {
        "id": "WmTHr5iV3jFr"
      },
      "source": [
        "def loss_function(real, pred):\n",
        "  mask = tf.math.logical_not(tf.math.equal(real, 0))\n",
        "  loss_ = loss_object(real, pred)\n",
        "\n",
        "  mask = tf.cast(mask, dtype=loss_.dtype)\n",
        "  loss_ *= mask\n",
        "\n",
        "  return tf.reduce_mean(loss_)"
      ],
      "execution_count": null,
      "outputs": []
    },
    {
      "cell_type": "markdown",
      "metadata": {
        "id": "hpObfY22IddU"
      },
      "source": [
        "## Training\n",
        "\n",
        "1. Pass the *input* through the *encoder* which return *encoder output* and the *encoder hidden state*.\n",
        "2. The encoder output, encoder hidden state and the decoder input (which is the *start token*) is passed to the decoder.\n",
        "3. The decoder returns the *predictions* and the *decoder hidden state*.\n",
        "4. The decoder hidden state is then passed back into the model and the predictions are used to calculate the loss.\n",
        "5. Use *teacher forcing* to decide the next input to the decoder.\n",
        "6. *Teacher forcing* is the technique where the *target word* is passed as the *next input* to the decoder.\n",
        "7. The final step is to calculate the gradients and apply it to the optimizer and backpropagate."
      ]
    },
    {
      "cell_type": "code",
      "metadata": {
        "id": "sC9ArXSsVfqn"
      },
      "source": [
        "@tf.function\n",
        "def train_step(encoder, decoder, inp, targ, enc_hidden):\n",
        "  loss = 0\n",
        "\n",
        "  with tf.GradientTape() as tape:\n",
        "    # Pass input to encoder\n",
        "    enc_output, enc_hidden = encoder(inp, enc_hidden)\n",
        "\n",
        "    dec_hidden = enc_hidden\n",
        "    # Set initial input to decoder\n",
        "    dec_input = tf.expand_dims([targ_lang.word_index['<start>']] * BATCH_SIZE, 1)\n",
        "\n",
        "    # Teacher forcing - feeding the target as the next input\n",
        "    for t in range(1, targ.shape[1]):\n",
        "      # passing enc_output to the decoder\n",
        "      predictions, dec_hidden, _ = decoder(dec_input, dec_hidden, enc_output)\n",
        "      # Calculate loss value with input step and predictions\n",
        "      loss += loss_function(targ[:, t], predictions)\n",
        "      # using teacher forcing. Set new input to decoder with past predictions\n",
        "      dec_input = tf.expand_dims(targ[:, t], 1)\n",
        "\n",
        "    # Calculate average loss in step\n",
        "    batch_loss = (loss / int(targ.shape[1]))\n",
        "    \n",
        "    # Optimize variables comparing them with loss value\n",
        "    variables = encoder.trainable_variables + decoder.trainable_variables\n",
        "    gradients = tape.gradient(loss, variables)\n",
        "    optimizer.apply_gradients(zip(gradients, variables))\n",
        "\n",
        "  return batch_loss"
      ],
      "execution_count": null,
      "outputs": []
    },
    {
      "cell_type": "markdown",
      "metadata": {
        "id": "LXxDVAo72jN_"
      },
      "source": [
        "### Load dataset"
      ]
    },
    {
      "cell_type": "code",
      "metadata": {
        "id": "cnxC7q-j3jFD"
      },
      "source": [
        "path_to_model = \"/content/drive/MyDrive/TFG/saved_models_optimal\"\n",
        "# save = False\n",
        "\n",
        "if True:\n",
        "  drive.mount('/content/drive')\n",
        "  path_to_file = os.path.dirname(\"/content/drive/MyDrive/TFG/\")+\"/lse_train_data.txt\"\n",
        "\n",
        "  nlp = stanza.Pipeline('es') # initialize Spanish neural pipeline\n",
        "  num_examples = None\n",
        "  input_tensor, target_tensor, inp_lang, targ_lang = load_dataset(path_to_file, True, num_examples)\n",
        "  \n",
        "  #Store dataset\n",
        "  # if save:  \n",
        "  #   pickle.dump([input_tensor, target_tensor], open(path_to_model + \"/dataset_lse.pkl\", \"wb\"))\n",
        "  \n",
        "\n",
        "  # Calculate max_length of the target tensors\n",
        "  max_length_targ, max_length_inp = target_tensor.shape[1], input_tensor.shape[1]\n",
        "  # Creating training and validation\n",
        "  input_tensor_train, input_tensor_val, target_tensor_train, target_tensor_val = train_test_split(input_tensor, target_tensor, test_size=0.05, shuffle=True)\n",
        "\n",
        "\n",
        "  # Show length\n",
        "  print(len(input_tensor_train), len(target_tensor_train), len(input_tensor_val), len(target_tensor_val))\n",
        "  print(type(input_tensor), type(target_tensor), type(inp_lang), type(targ_lang))\n",
        "  print(\"Input Language; index to word mapping\")\n",
        "  convert(inp_lang, input_tensor_train[0])\n",
        "  print(\"Target Language; index to word mapping\")\n",
        "  convert(targ_lang, target_tensor_train[0])"
      ],
      "execution_count": null,
      "outputs": []
    },
    {
      "cell_type": "markdown",
      "metadata": {
        "id": "BduK4twe2CSr"
      },
      "source": [
        "### Hyperparameters declaration"
      ]
    },
    {
      "cell_type": "code",
      "metadata": {
        "id": "TqHsArVZ3jFS"
      },
      "source": [
        "# Define the hidden params to the models\n",
        "BUFFER_SIZE = len(input_tensor_train)\n",
        "BATCH_SIZE = 1    # 64\n",
        "steps_per_epoch = len(input_tensor_train)//BATCH_SIZE # Calculate how many steps will be\n",
        "embedding_dim = 256\n",
        "units = 512  # Number of weights\n",
        "l_rate=0.0005\n",
        "EPOCHS = 15\n",
        "loss_stop_dif = 0.10\n",
        "max_loss_val = 0.5\n",
        "vocab_inp_size = len(inp_lang.word_index)+1\n",
        "vocab_tar_size = len(targ_lang.word_index)+1\n",
        "\n",
        "dataset = tf.data.Dataset.from_tensor_slices((input_tensor_train, target_tensor_train)).shuffle(BUFFER_SIZE)\n",
        "dataset = dataset.batch(BATCH_SIZE, drop_remainder=True)\n",
        "\n",
        "example_input_batch, example_target_batch = next(iter(dataset))\n",
        "example_input_batch.shape, example_target_batch.shape"
      ],
      "execution_count": null,
      "outputs": []
    },
    {
      "cell_type": "markdown",
      "metadata": {
        "id": "letxKoKG2cEi"
      },
      "source": [
        "### Training process"
      ]
    },
    {
      "cell_type": "code",
      "metadata": {
        "colab": {
          "background_save": true
        },
        "id": "ddefjBMa3jF0"
      },
      "source": [
        "train = True\n",
        "load = False # True makes error on training\n",
        "pre_loss = 1\n",
        "losses = []\n",
        "if train:\n",
        "  # Choose if load past model or start new model from zero\n",
        "  if load:\n",
        "    encoder, decoder = loadModels(path_to_model + '/encoder_trained_weights', path_to_model + '/decoder_trained_weights')\n",
        "  else:\n",
        "    encoder, decoder = initModelsFromZero(vocab_inp_size, vocab_tar_size, embedding_dim, units, BATCH_SIZE, example_input_batch)\n",
        "  \n",
        "  #Define optimizer\n",
        "  optimizer = tf.keras.optimizers.Adam(learning_rate=l_rate)  # learning_rate=0.01\n",
        "  loss_object = tf.keras.losses.SparseCategoricalCrossentropy(from_logits=True, reduction='none')\n",
        "  \n",
        "  # checkpoint_dir = './training_checkpoints_lse_newdata'\n",
        "  # checkpoint_prefix = os.path.join(checkpoint_dir, \"ckpt\")\n",
        "  # checkpoint = tf.train.Checkpoint(optimizer=optimizer,\n",
        "  #                                 encoder=encoder,\n",
        "  #                                 decoder=decoder)\n",
        "\n",
        "\n",
        "  for epoch in range(EPOCHS):\n",
        "    start = time.time()\n",
        "    enc_hidden = encoder.initialize_hidden_state()\n",
        "    total_loss = 0\n",
        "    # Iterate through the input data\n",
        "    for (batch, (inp, targ)) in enumerate(dataset.take(steps_per_epoch)):\n",
        "      # Pass the input and real output to trainer. Enc_hidden can be declarated in many ways\n",
        "      batch_loss = train_step(encoder, decoder, inp, targ, enc_hidden)\n",
        "      total_loss += batch_loss\n",
        "\n",
        "      if batch % 100 == 0:\n",
        "        print(f'Epoch {epoch+1} Batch {batch} Loss {batch_loss.numpy():.4f}')\n",
        "    \n",
        "    # saving (checkpoint) the model every 2 epochs\n",
        "    if (epoch + 1) % 2 == 0:\n",
        "      # checkpoint.save(file_prefix=checkpoint_prefix)\n",
        "      encoder.save_weights(path_to_model + '/encoder_trained_weights', save_format='tf')\n",
        "      decoder.save_weights(path_to_model + '/decoder_trained_weights', save_format='tf')\n",
        "    \n",
        "    average_loss=total_loss/steps_per_epoch\n",
        "    losses.append(average_loss)\n",
        "    # Average of loss in epoch\n",
        "    print(f'Epoch {epoch+1} Loss {average_loss:.4f}')\n",
        "    print(f'Time taken for 1 epoch {time.time()-start:.2f} sec')\n",
        "    difference = pre_loss-average_loss\n",
        "    print(\"Diferencia\", difference.numpy(),\"\\n\")\n",
        "    if difference.numpy() < loss_stop_dif and average_loss < max_loss_val:\n",
        "      break\n",
        "    \n",
        "    pre_loss = average_loss\n",
        "  \n",
        "  # Plotting the loss evolution\n",
        "  plt.plot(losses)\n",
        "  plt.ylabel('Loss Value')\n",
        "  plt.show()\n",
        "else:\n",
        "  encoder, decoder = loadModels(path_to_model+'/encoder_trained_weights', path_to_model+'/decoder_trained_weights')"
      ],
      "execution_count": null,
      "outputs": []
    },
    {
      "cell_type": "markdown",
      "metadata": {
        "id": "mU3Ce8M6I3rz"
      },
      "source": [
        "## Translate\n",
        "\n",
        "* The evaluate function is similar to the training loop, except we don't use *teacher forcing* here. The input to the decoder at each time step is its previous predictions along with the hidden state and the encoder output.\n",
        "* Stop predicting when the model predicts the *end token*.\n",
        "* And store the *attention weights for every time step*.\n",
        "\n",
        "Note: The encoder output is calculated only once for one input."
      ]
    },
    {
      "cell_type": "code",
      "metadata": {
        "colab": {
          "background_save": true
        },
        "id": "EbQpyYs13jF_"
      },
      "source": [
        "def evaluate(sentence, encoder, decoder):\n",
        "  attention_plot = np.zeros((max_length_targ, max_length_inp))\n",
        "  # Prepare sentence for the model\n",
        "  sentence = preprocess_sentence(sentence)\n",
        "  # Get lemmatized words\n",
        "  in_docs = [stanza.Document([], text=d) for d in list([sentence])]\n",
        "  inp_postagged = nlp(in_docs)\n",
        "  inp_postagged2 = process_text(inp_postagged)\n",
        "  lemma_sentence = get_lemma_sentences(inp_postagged2)[0][:-1]\n",
        "  print(\"lemma\", lemma_sentence)\n",
        "  # Tokenize words\n",
        "  unknown_word_id = inp_lang.word_index.get(\"<unk>\", -1)\n",
        "  inputs = []\n",
        "  for word in lemma_sentence.split(' '):\n",
        "    inputs.append(inp_lang.word_index.get(word, unknown_word_id))\n",
        "  \n",
        "  \n",
        "  inputs = tf.keras.preprocessing.sequence.pad_sequences([inputs], maxlen=max_length_inp, padding='post')\n",
        "  inputs = tf.convert_to_tensor(inputs)\n",
        "\n",
        "  result = ''\n",
        "  hidden = [tf.zeros((1, units))]\n",
        "  # Pass inputs to encoder and zero hidden state\n",
        "  enc_out, enc_hidden = encoder(inputs, hidden)\n",
        "  # Encoder output hidden state is decoder input hidden state\n",
        "  dec_hidden = enc_hidden\n",
        "  # Init decoder input\n",
        "  dec_input = tf.expand_dims([targ_lang.word_index['<start>']], 0)\n",
        "\n",
        "  for t in range(max_length_targ):\n",
        "    # Get predictions from decoder\n",
        "    predictions, dec_hidden, attention_weights = decoder(dec_input, dec_hidden, enc_out)\n",
        "\n",
        "    # storing the attention weights to plot later on\n",
        "    attention_weights = tf.reshape(attention_weights, (-1, ))\n",
        "    attention_plot[t] = attention_weights.numpy()\n",
        "\n",
        "    predicted_id = tf.argmax(predictions[0]).numpy()\n",
        "    # Translate predicted tokens to words\n",
        "    result += targ_lang.index_word[predicted_id] + ' '\n",
        "\n",
        "    if targ_lang.index_word[predicted_id] == '<end>':\n",
        "      return result, sentence, attention_plot\n",
        "\n",
        "    # the predicted ID is fed back into the model\n",
        "    dec_input = tf.expand_dims([predicted_id], 0)\n",
        "\n",
        "  return result, sentence, attention_plot"
      ],
      "execution_count": null,
      "outputs": []
    },
    {
      "cell_type": "code",
      "metadata": {
        "colab": {
          "background_save": true
        },
        "id": "s5hQWlbN3jGF"
      },
      "source": [
        "# function for plotting the attention weights\n",
        "def plot_attention(attention, sentence, predicted_sentence):\n",
        "  fig = plt.figure(figsize=(10, 10))\n",
        "  ax = fig.add_subplot(1, 1, 1)\n",
        "  ax.matshow(attention, cmap='viridis')\n",
        "\n",
        "  fontdict = {'fontsize': 14}\n",
        "\n",
        "  ax.set_xticklabels([''] + sentence, fontdict=fontdict, rotation=90)\n",
        "  ax.set_yticklabels([''] + predicted_sentence, fontdict=fontdict)\n",
        "\n",
        "  ax.xaxis.set_major_locator(ticker.MultipleLocator(1))\n",
        "  ax.yaxis.set_major_locator(ticker.MultipleLocator(1))\n",
        "\n",
        "  plt.show()"
      ],
      "execution_count": null,
      "outputs": []
    },
    {
      "cell_type": "code",
      "metadata": {
        "colab": {
          "background_save": true
        },
        "id": "sl9zUHzg3jGI"
      },
      "source": [
        "def translate(sentences, encoder, decoder):\n",
        "  for sent in sentences:\n",
        "    result, sentence, attention_plot = evaluate(sent, encoder, decoder)\n",
        "    print('Input:', sentence)\n",
        "    print('Predicted translation:', result)\n",
        "  return result\n",
        "  # attention_plot = attention_plot[:len(result.split(' ')),\n",
        "  #                                 :len(sentence.split(' '))]\n",
        "  # plot_attention(attention_plot, sentence.split(' '), result.split(' '))"
      ],
      "execution_count": null,
      "outputs": []
    },
    {
      "cell_type": "markdown",
      "metadata": {
        "id": "n250XbnjOaqP"
      },
      "source": [
        "## Restore the latest checkpoint and test"
      ]
    },
    {
      "cell_type": "code",
      "metadata": {
        "colab": {
          "background_save": true
        },
        "id": "UJpT9D5_OgP6"
      },
      "source": [
        "# restoring the latest checkpoint in checkpoint_dir\n",
        "# checkpoint.restore(tf.train.latest_checkpoint(checkpoint_dir))"
      ],
      "execution_count": null,
      "outputs": []
    },
    {
      "cell_type": "code",
      "metadata": {
        "colab": {
          "background_save": true
        },
        "id": "WrAM0FDomq3E"
      },
      "source": [
        "translate(['hace mucho frio.',\n",
        "           'Cual es tu signo?',\n",
        "           'Esta manzana es roja.',\n",
        "           'esta es mi vida.',\n",
        "           '¿De qué color es?'], encoder, decoder)"
      ],
      "execution_count": null,
      "outputs": []
    },
    {
      "cell_type": "markdown",
      "metadata": {
        "id": "RTe5P5ioMJwN"
      },
      "source": [
        "## Next steps\n",
        "\n",
        "* [Download a different dataset](http://www.manythings.org/anki/) to experiment with translations, for example, English to German, or English to French.\n",
        "* Experiment with training on a larger dataset, or using more epochs.\n"
      ]
    },
    {
      "cell_type": "code",
      "metadata": {
        "colab": {
          "background_save": true
        },
        "id": "PVdF2rfec3dr"
      },
      "source": [
        "total=0\n",
        "for i in range(0,len(input_tensor_val)):\n",
        "  reference_sentence = convert(targ_lang, target_tensor_val[i])\n",
        "  reference_sentence = reference_sentence.replace(\"<start> \", \"\", 1)\n",
        "  # reference_sentence = reference_sentence.replace(\"<end>\", \"\", 2)\n",
        "  reference = [\n",
        "      str(reference_sentence).split()\n",
        "    ]\n",
        "  candidate_sentence = convert(inp_lang, input_tensor_val[i])\n",
        "  candidate_sentence = candidate_sentence.replace(\"<start>\", \"\", 2)\n",
        "  candidate_sentence = candidate_sentence.replace(\"<end>\", \"\", 2)\n",
        "  candidate_sentence = str(translate([candidate_sentence], encoder, decoder)).split()\n",
        "  # Remove ends\n",
        "  # candidate_sentence = candidate_sentence[:-1]\n",
        "  # reference_sentence = reference_sentence.replace(\" <end>\", \"\", 1)\n",
        "\n",
        "  print(\"Check\", reference_sentence, candidate_sentence)\n",
        "\n",
        "  result = sentence_bleu(reference, candidate_sentence)\n",
        "  total = result + total\n",
        "  print('BLEU score -> {}\\n'.format(result))\n",
        "\n",
        "average = total/len(input_tensor_val)\n",
        "print('Number of tests: ', len(input_tensor_val))\n",
        "print('AVERAGE BLEU SCORE: ', average)"
      ],
      "execution_count": null,
      "outputs": []
    }
  ]
}